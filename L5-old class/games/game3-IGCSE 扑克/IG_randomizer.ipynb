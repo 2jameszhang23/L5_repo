{
 "cells": [
  {
   "cell_type": "code",
   "execution_count": null,
   "id": "2c6075eb-a2d6-412d-be14-01198d0a0607",
   "metadata": {},
   "outputs": [],
   "source": [
    "import pandas as pd\n",
    "import tkinter as tk\n",
    "import random\n",
    "import re\n",
    "\n",
    "file_path=\"IG_ques.xlsx\"\n",
    "df=pd.read_excel(file_path)\n",
    "\n",
    "selected_row=None\n",
    "click_stage=0\n",
    "\n",
    "def count_letters(text):\n",
    "    letters=re.sub(r'[^a-zA-Z]','',str(text))\n",
    "    return len(letters)%10 if len(letters)>10 else len(letters)\n",
    "\n",
    "def on_click():\n",
    "    global selected_row,click_stage\n",
    "    if click_stage==0:\n",
    "        selected_row=df.sample(n=1).iloc[0]\n",
    "        letter_count=count_letters(selected_row[\"Words\"])\n",
    "        text.set(f\"Number:{selected_row['Number']}\\nPaper:{selected_row['Paper']}\\nLetters in Words:{letter_count}\")\n",
    "        click_stage+=1\n",
    "    elif click_stage==1:\n",
    "        text.set(f\"Chapter:{selected_row['Chapter']}\")\n",
    "        click_stage+=1\n",
    "    elif click_stage==2:\n",
    "        text.set(f\"Words:{selected_row['Words']}\")\n",
    "        click_stage+=1\n",
    "    elif click_stage==3:\n",
    "        text.set(f\"Paper:{selected_row['Paper1']}\\nNumber:{selected_row['Number']}\\nQuestion:{selected_row['Questions']}\")\n",
    "        click_stage=0\n",
    "\n",
    "root=tk.Tk()\n",
    "root.title(\"IGCSE CS exam randomizer\")\n",
    "root.geometry(\"500x300\")\n",
    "\n",
    "text=tk.StringVar()\n",
    "text.set(\"Press to start a round！\")\n",
    "\n",
    "label=tk.Label(root,textvariable=text,font=(\"Arial\",30),wraplength=450)\n",
    "label.pack(pady=20)\n",
    "\n",
    "button=tk.Button(root,text=\"Next\",command=on_click,font=(\"Arial\",20))\n",
    "button.pack(pady=10)\n",
    "\n",
    "root.mainloop()"
   ]
  },
  {
   "cell_type": "code",
   "execution_count": null,
   "id": "82e9fc4b-a134-486e-afcc-453c91190192",
   "metadata": {},
   "outputs": [],
   "source": []
  },
  {
   "cell_type": "code",
   "execution_count": null,
   "id": "a7ff3709-a2ea-4e2a-9f8f-0b61cef4aee8",
   "metadata": {},
   "outputs": [],
   "source": []
  }
 ],
 "metadata": {
  "kernelspec": {
   "display_name": "Python 3",
   "language": "python",
   "name": "python3"
  },
  "language_info": {
   "codemirror_mode": {
    "name": "ipython",
    "version": 3
   },
   "file_extension": ".py",
   "mimetype": "text/x-python",
   "name": "python",
   "nbconvert_exporter": "python",
   "pygments_lexer": "ipython3",
   "version": "3.8.8"
  }
 },
 "nbformat": 4,
 "nbformat_minor": 5
}

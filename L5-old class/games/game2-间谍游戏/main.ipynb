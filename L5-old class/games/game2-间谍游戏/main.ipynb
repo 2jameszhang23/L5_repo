{
 "cells": [
  {
   "cell_type": "code",
   "execution_count": 32,
   "id": "3eb7a363-fb7b-4f1e-b4f8-f0a0decc0894",
   "metadata": {},
   "outputs": [],
   "source": [
    "import random\n",
    "\n",
    "def load_word_list(filename=\"word_list.txt\"):\n",
    "    with open(filename,\"r\",encoding=\"utf-8\") as file:\n",
    "        return [line.strip() for line in file.readlines()]\n",
    "\n",
    "def initialize_game(word_list):\n",
    "    if len(word_list)<25:\n",
    "        print(\"Not enough words in the list!\")\n",
    "        return None\n",
    "    \n",
    "    selected_words = random.sample(word_list,25)\n",
    "\n",
    "    colors = ['red']*9+['blue']*9+['neutral']*5+['assassin']*2\n",
    "    random.shuffle(colors)\n",
    "\n",
    "    game_board = dict(zip(selected_words,colors))\n",
    "\n",
    "    return game_board\n",
    "\n",
    "def display_game_board_with_colors(game_board):\n",
    "    print(\"\\nGame board (with colors):\")\n",
    "    for i,(word,color) in enumerate(game_board.items(),1):\n",
    "        print(f\"{i}. {word}: {color}\")\n",
    "\n",
    "def save_game_board_for_spies(game_board,filename=\"game_board_for_spies.txt\"):\n",
    "    with open(filename,\"w\",encoding=\"utf-8\") as file:\n",
    "        file.write(\"Game board (for spies):\\n\\n\")\n",
    "        for i,word in enumerate(game_board.keys(),1):\n",
    "            file.write(f\"{i}. {word}\\n\")\n",
    "    \n",
    "    print(f\"\\nGame board for spies has been saved to {filename}\")"
   ]
  },
  {
   "cell_type": "code",
   "execution_count": 33,
   "id": "43ca164e-b824-43f1-93a7-2aa261e2cbae",
   "metadata": {},
   "outputs": [
    {
     "name": "stdout",
     "output_type": "stream",
     "text": [
      "\n",
      "Game board (with colors):\n",
      "1. Cache memory stores frequently used data for faster access.: blue\n",
      "2. Virtual memory uses hard drive space as if it were RAM.: red\n",
      "3. A compiler shows an error report after translating code.: neutral\n",
      "4. USB is used for data transfer between devices.: neutral\n",
      "5. Higher sample rate and resolution = better quality, larger size.: neutral\n",
      "6. HTTP transfers web pages; HTTPS is the secure version.: red\n",
      "7. Actuators perform actions based on data (e.g., motors, valves).: assassin\n",
      "8. A web browser retrieves and displays web pages.: blue\n",
      "9. Sample rate determines how many samples are taken per second.: blue\n",
      "10. Software interrupts are triggered by program errors.: blue\n",
      "11. Lossless compression keeps all data (e.g., RLE).: neutral\n",
      "12. A MAC address uniquely identifies a network device.: blue\n",
      "13. Image and sound file sizes depend on resolution, sample rate, and bit depth.: blue\n",
      "14. Brute-force attacks try all possible passwords.: neutral\n",
      "15. Text is converted to binary for processing.: red\n",
      "16. Sensors capture data (e.g., temperature, pressure).: red\n",
      "17. A URL is the web address of a page or resource.: blue\n",
      "18. Sample resolution refers to the bits used for each sample.: blue\n",
      "19. A core in a CPU is a unit that can process instructions.: red\n",
      "20. Data transmission methods include serial, parallel, and duplex.: red\n",
      "21. An interpreter translates code line by line.: blue\n",
      "22. A check digit validates data (e.g., ISBN, barcode).: red\n",
      "23. Lossy compression reduces size by discarding some data (e.g., JPEG, MP3).: red\n",
      "24. Echo check sends data back to confirm accuracy.: red\n",
      "25. DNS translates URLs into IP addresses.: assassin\n",
      "\n",
      "Game board for spies has been saved to game_board_for_spies.txt\n"
     ]
    }
   ],
   "source": [
    "if __name__==\"__main__\":\n",
    "    word_list=load_word_list()\n",
    "    game_board=initialize_game(word_list)\n",
    "\n",
    "    if game_board:\n",
    "        display_game_board_with_colors(game_board)\n",
    "        save_game_board_for_spies(game_board)\n"
   ]
  },
  {
   "cell_type": "code",
   "execution_count": 26,
   "id": "62642472-1923-4c15-be31-60684127bc21",
   "metadata": {},
   "outputs": [
    {
     "name": "stdout",
     "output_type": "stream",
     "text": [
      "11\n"
     ]
    }
   ],
   "source": [
    "print(random.randint(1,14))"
   ]
  },
  {
   "cell_type": "code",
   "execution_count": 29,
   "id": "cc880e1e-92b2-43e2-9f32-da5012b55220",
   "metadata": {},
   "outputs": [
    {
     "data": {
      "text/plain": [
       "{'Sample resolution refers to the bits used for each sample.': 'blue',\n",
       " 'Colour depth refers to bits per pixel for colour.': 'red',\n",
       " 'An IP address identifies a device on a network (IPv4 or IPv6).': 'blue',\n",
       " 'Interrupts signal the CPU to handle urgent tasks.': 'blue',\n",
       " 'Serial transmission sends one bit at a time, parallel sends multiple bits.': 'assassin',\n",
       " 'Blockchain records transactions securely in a decentralized ledger.': 'blue',\n",
       " 'Digital images are represented as a grid of pixels in binary.': 'red',\n",
       " 'A gibibyte is 1024 mebibytes, a tebibyte is 1024 gibibytes.': 'neutral',\n",
       " 'Magnetic storage uses spinning disks, optical uses lasers.': 'blue',\n",
       " 'A CPU processes data and instructions.': 'blue',\n",
       " 'Local storage is faster and more secure, but needs physical hardware.': 'assassin',\n",
       " 'A web browser retrieves and displays web pages.': 'red',\n",
       " 'Data transmission methods include serial, parallel, and duplex.': 'red',\n",
       " 'RAM is volatile memory for fast data access.': 'neutral',\n",
       " 'DDoS attacks overwhelm servers with traffic, causing crashes.': 'red',\n",
       " 'Packets may arrive out of order and are reordered on arrival.': 'neutral',\n",
       " 'HTTP transfers web pages; HTTPS is the secure version.': 'red',\n",
       " 'Data is transmitted in packets with header, payload, and trailer.': 'red',\n",
       " 'Compression saves space, reduces bandwidth, and speeds up transmission.': 'neutral',\n",
       " 'DNS translates URLs into IP addresses.': 'red',\n",
       " 'Cloud storage requires a stable internet connection.': 'red',\n",
       " 'Malware includes viruses, worms, and ransomware.': 'neutral',\n",
       " 'Image and sound file sizes depend on resolution, sample rate, and bit depth.': 'blue',\n",
       " 'ROM is non-volatile memory storing permanent instructions.': 'blue',\n",
       " 'Sample rate determines how many samples are taken per second.': 'blue'}"
      ]
     },
     "execution_count": 29,
     "metadata": {},
     "output_type": "execute_result"
    }
   ],
   "source": [
    "game_board"
   ]
  },
  {
   "cell_type": "code",
   "execution_count": null,
   "id": "0207aac7-1da1-4d61-a347-702211c54c39",
   "metadata": {},
   "outputs": [],
   "source": []
  }
 ],
 "metadata": {
  "kernelspec": {
   "display_name": "Python 3",
   "language": "python",
   "name": "python3"
  },
  "language_info": {
   "codemirror_mode": {
    "name": "ipython",
    "version": 3
   },
   "file_extension": ".py",
   "mimetype": "text/x-python",
   "name": "python",
   "nbconvert_exporter": "python",
   "pygments_lexer": "ipython3",
   "version": "3.8.8"
  }
 },
 "nbformat": 4,
 "nbformat_minor": 5
}
